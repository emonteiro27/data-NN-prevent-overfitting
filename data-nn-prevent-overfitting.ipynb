{
 "cells": [
  {
   "cell_type": "code",
   "execution_count": 1,
   "id": "d95ced05",
   "metadata": {},
   "outputs": [],
   "source": [
    "#import the essential libraries\n",
    "\n",
    "import numpy as np\n",
    "import pandas as pd\n",
    "import matplotlib.pyplot as plt\n",
    "import seaborn as sns"
   ]
  },
  {
   "cell_type": "markdown",
   "id": "bd3dffc3",
   "metadata": {},
   "source": [
    "# Data: `Blobs` dataset"
   ]
  },
  {
   "cell_type": "code",
   "execution_count": 2,
   "id": "81c26daf",
   "metadata": {},
   "outputs": [],
   "source": [
    "from sklearn.datasets import make_blobs"
   ]
  },
  {
   "cell_type": "markdown",
   "id": "de66416b",
   "metadata": {},
   "source": [
    "Generate a dataset with:\n",
    "- 2000 samples with 10 features each;\n",
    "- 8 classes of blobs (centers argument);\n",
    "- cluster_std = 7"
   ]
  },
  {
   "cell_type": "code",
   "execution_count": 3,
   "id": "dd9b09ea",
   "metadata": {},
   "outputs": [],
   "source": [
    "X, y = make_blobs(n_samples=2000, n_features=10, centers=8, cluster_std=7, random_state=0)"
   ]
  },
  {
   "cell_type": "code",
   "execution_count": 6,
   "id": "f5bfe41a",
   "metadata": {},
   "outputs": [
    {
     "name": "stdout",
     "output_type": "stream",
     "text": [
      "X.shape=(2000, 10)\n",
      "y.shape=(2000,)\n"
     ]
    }
   ],
   "source": [
    "print(f'X.shape={X.shape}')\n",
    "print(f'y.shape={y.shape}')"
   ]
  },
  {
   "cell_type": "code",
   "execution_count": null,
   "id": "8c1c1f20",
   "metadata": {},
   "outputs": [],
   "source": []
  }
 ],
 "metadata": {
  "kernelspec": {
   "display_name": "Python 3 (ipykernel)",
   "language": "python",
   "name": "python3"
  },
  "language_info": {
   "codemirror_mode": {
    "name": "ipython",
    "version": 3
   },
   "file_extension": ".py",
   "mimetype": "text/x-python",
   "name": "python",
   "nbconvert_exporter": "python",
   "pygments_lexer": "ipython3",
   "version": "3.10.6"
  },
  "toc": {
   "base_numbering": 1,
   "nav_menu": {},
   "number_sections": true,
   "sideBar": true,
   "skip_h1_title": false,
   "title_cell": "Table of Contents",
   "title_sidebar": "Contents",
   "toc_cell": false,
   "toc_position": {},
   "toc_section_display": true,
   "toc_window_display": false
  }
 },
 "nbformat": 4,
 "nbformat_minor": 5
}
